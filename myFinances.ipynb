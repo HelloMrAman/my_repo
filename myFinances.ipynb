{
  "nbformat": 4,
  "nbformat_minor": 0,
  "metadata": {
    "colab": {
      "private_outputs": true,
      "provenance": [],
      "authorship_tag": "ABX9TyOFfhG+sANMgbd4AZY4jU+o",
      "include_colab_link": true
    },
    "kernelspec": {
      "name": "python3",
      "display_name": "Python 3"
    },
    "language_info": {
      "name": "python"
    }
  },
  "cells": [
    {
      "cell_type": "markdown",
      "metadata": {
        "id": "view-in-github",
        "colab_type": "text"
      },
      "source": [
        "<a href=\"https://colab.research.google.com/github/HelloMrAman/my_repo/blob/main/myFinances.ipynb\" target=\"_parent\"><img src=\"https://colab.research.google.com/assets/colab-badge.svg\" alt=\"Open In Colab\"/></a>"
      ]
    },
    {
      "cell_type": "markdown",
      "source": [
        "# My Personal Finances"
      ],
      "metadata": {
        "id": "wHBeTjq8sGom"
      }
    },
    {
      "cell_type": "markdown",
      "source": [
        "\n",
        "\n",
        "###Data cleaning and Preperation\n",
        "\n"
      ],
      "metadata": {
        "id": "YdyvWMRMuBK1"
      }
    },
    {
      "cell_type": "code",
      "source": [
        "import pandas as pd\n",
        "import matplotlib.pyplot as plt\n",
        "\n",
        "data = pd.read_excel('/content/sample_data/my_finance_data.xlsx')\n",
        "\n",
        "print(data.head())\n",
        "print(data.info())"
      ],
      "metadata": {
        "id": "PZcPOSz2vKZc"
      },
      "execution_count": null,
      "outputs": []
    },
    {
      "cell_type": "code",
      "source": [
        "print(data.isnull().sum())"
      ],
      "metadata": {
        "id": "XzDSRTgVviSG"
      },
      "execution_count": null,
      "outputs": []
    },
    {
      "cell_type": "markdown",
      "source": [
        "### Data Analysis"
      ],
      "metadata": {
        "id": "3ctiaLb2wb6Q"
      }
    },
    {
      "cell_type": "code",
      "source": [
        "data.describe()"
      ],
      "metadata": {
        "id": "afh3tBf5vwlp"
      },
      "execution_count": null,
      "outputs": []
    },
    {
      "cell_type": "code",
      "source": [
        "print(data['Category'].value_counts())"
      ],
      "metadata": {
        "id": "ALZWmVvnwNGF"
      },
      "execution_count": null,
      "outputs": []
    },
    {
      "cell_type": "markdown",
      "source": [
        "*Spending by category*"
      ],
      "metadata": {
        "id": "CDS2VUMpw1zV"
      }
    },
    {
      "cell_type": "code",
      "source": [
        "data['Category'].value_counts().plot(kind='bar')\n",
        "plt.title('Spending by Category')\n",
        "plt.show()"
      ],
      "metadata": {
        "id": "9686J5m5wlZ_"
      },
      "execution_count": null,
      "outputs": []
    },
    {
      "cell_type": "markdown",
      "source": [
        "*Spending by month*"
      ],
      "metadata": {
        "id": "5dNjwxITxojX"
      }
    },
    {
      "cell_type": "code",
      "source": [
        "# First we will separate Income/Expense column\n",
        "data['Income'] = data['Debit/Credit'] * (data['Income/Expense'] == 'Income')\n",
        "data['Expense'] = data['Debit/Credit'] * (data['Income/Expense'] == 'Expense') * -1\n",
        "data"
      ],
      "metadata": {
        "id": "jXpgnQ5txvmZ"
      },
      "execution_count": null,
      "outputs": []
    },
    {
      "cell_type": "code",
      "source": [
        "# Separate columns for Debit and Credit\n",
        "\n",
        "data['Debit'] = data['Debit/Credit'] * (data['Debit/Credit'] < 0)\n",
        "data['Credit'] = data['Debit/Credit'] * (data['Debit/Credit'] >= 0)\n",
        "data"
      ],
      "metadata": {
        "id": "3JlPsMkw8tKL"
      },
      "execution_count": null,
      "outputs": []
    },
    {
      "cell_type": "code",
      "source": [
        "expenses = data[data['Income/Expense'] == 'Expense']\n",
        "\n",
        "# Try converting 'Date' to DateTime format\n",
        "try:\n",
        "  expenses = expenses.assign(Date=pd.to_datetime(expenses['Date'], format='%y-%m-%d'))\n",
        "except pd.errors.ParserError:\n",
        "  pass\n",
        "\n",
        "expenses = expenses.assign(Month=expenses['Date'].dt.month_name())\n",
        "\n",
        "# Group by month and calculate total expenses\n",
        "monthly_spending = expenses.groupby('Month')['Debit'].sum() * -1\n",
        "\n",
        "monthly_spending.plot(kind='bar', color='red')\n",
        "plt.title('Monthly Spending')\n",
        "plt.xlabel('Month')\n",
        "plt.ylabel('Total Expense')\n",
        "plt.xticks(rotation=45)\n",
        "plt.tight_layout()\n",
        "plt.show()\n"
      ],
      "metadata": {
        "id": "rAQTVUXf95Zo"
      },
      "execution_count": null,
      "outputs": []
    },
    {
      "cell_type": "markdown",
      "source": [
        "*Monthly earning*"
      ],
      "metadata": {
        "id": "7BIiyGfiDTnD"
      }
    },
    {
      "cell_type": "code",
      "source": [
        "incomes = data[data['Income/Expense'] == 'Income']\n",
        "\n",
        "# Try converting 'Date' to DateTime format\n",
        "try:\n",
        "  incomes = incomes.assign(Date=pd.to_datetime(incomes['Date'], format='%y-%m-%d'))\n",
        "except pd.errors.ParserError:\n",
        "  pass\n",
        "\n",
        "incomes = incomes.assign(Month=incomes['Date'].dt.month_name())\n",
        "\n",
        "# Group by month and calculate total incomes\n",
        "monthly_Earning = incomes.groupby('Month')['Credit'].sum()\n",
        "\n",
        "monthly_Earning.plot(kind='bar', color='green')\n",
        "plt.title('Monthly Income')\n",
        "plt.xlabel('Month')\n",
        "plt.ylabel('Total Income')\n",
        "plt.xticks(rotation=45)\n",
        "plt.tight_layout()\n",
        "plt.show()"
      ],
      "metadata": {
        "id": "OV5vkd6oDez2"
      },
      "execution_count": null,
      "outputs": []
    },
    {
      "cell_type": "markdown",
      "source": [
        "*Income Vs Expenses Over time*"
      ],
      "metadata": {
        "id": "vhdOvUAfJas6"
      }
    },
    {
      "cell_type": "markdown",
      "source": [
        "Area Bar Chart"
      ],
      "metadata": {
        "id": "A2khve3uJuem"
      }
    },
    {
      "cell_type": "code",
      "source": [
        "incomes = data[data['Income/Expense'] == 'Income']\n",
        "expenses = data[data['Income/Expense'] == 'Expense']\n",
        "\n",
        "# Ensure 'Date' is formatted correctly\n",
        "incomes.loc[:, 'Date'] = pd.to_datetime(incomes['Date'], format='%y-%m-%d')\n",
        "expenses.loc[:, 'Date'] = pd.to_datetime(expenses['Date'], format='%y-%m-%d')\n",
        "\n",
        "# Set 'Date' as index if it represents time series data\n",
        "incomes.set_index('Date', inplace=True)\n",
        "expenses.set_index('Date', inplace=True)\n",
        "\n",
        "# Resample to monthly data\n",
        "incomes_resampled = incomes.resample('M')['Credit'].sum()\n",
        "expenses_resampled = expenses.resample('M')['Debit'].sum() * -1\n",
        "\n",
        "# Adjust the timeframe as needed (e.g., incomes_resampled.loc['2023-01':'2023-12'])\n",
        "year_income = incomes_resampled.loc[incomes_resampled.index.year == incomes_resampled.index[-1].year]\n",
        "year_expense = expenses_resampled.loc[expenses_resampled.index.year == expenses_resampled.index[-1].year]\n",
        "\n",
        "# area chart\n",
        "fig, ax = plt.subplots()\n",
        "year_income.plot(kind='area', alpha=0.4, color='green', label='Income', ax=ax)\n",
        "year_expense.plot(kind='area', alpha=0.4, color='red', label='Expense', ax=ax)\n",
        "\n",
        "# Customize the plot title and labels based on your data\n",
        "plt.title('Income vs Expenses')\n",
        "plt.xlabel('Month')\n",
        "plt.ylabel('Amount')\n",
        "plt.xticks(rotation=45)\n",
        "plt.legend()\n",
        "plt.tight_layout()\n",
        "plt.show()\n",
        "\n"
      ],
      "metadata": {
        "id": "gVcjPj-NJj5G"
      },
      "execution_count": null,
      "outputs": []
    },
    {
      "cell_type": "markdown",
      "source": [
        "### Budgeting and Goal setting"
      ],
      "metadata": {
        "id": "l5vhRUUBYOYZ"
      }
    },
    {
      "cell_type": "markdown",
      "source": [
        "*Saving Rate*"
      ],
      "metadata": {
        "id": "6vOKLiWuYe1j"
      }
    },
    {
      "cell_type": "code",
      "source": [
        "# Series to DataFrame with a single column (to use merge)\n",
        "monthly_income_df = incomes_resampled.to_frame('Credit')\n",
        "monthly_expense_df = expenses_resampled.to_frame('Debit')\n",
        "\n",
        "# monthly savings\n",
        "monthly_data = monthly_income_df.merge(monthly_expense_df, how='left', on='Date')\n",
        "monthly_data['Savings'] = monthly_data['Credit'] - monthly_data['Debit']\n",
        "\n",
        "# total income, expenses, and savings\n",
        "total_income = monthly_data['Credit'].sum()\n",
        "total_expenses = monthly_data['Debit'].sum()\n",
        "total_savings = monthly_data['Savings'].sum()\n",
        "\n",
        "# savings rate (assuming total income is not zero)\n",
        "if total_income != 0:\n",
        "    savings_rate = (total_savings / total_income) * 100\n",
        "else:\n",
        "    savings_rate = 0  # Handle zero income case (division by zero)\n",
        "\n",
        "\n",
        "# Print formatted results\n",
        "print(f\"Total Income: ₹{total_income:.2f}\")\n",
        "print(f\"Total Expenses: ₹{total_expenses:.2f}\")\n",
        "print(f\"Total Savings: ₹{monthly_data['Savings'].sum():.2f}\")\n",
        "print(f\"Savings Rate: {savings_rate:.2f}%\")\n"
      ],
      "metadata": {
        "id": "JDjuI1EqYkyQ"
      },
      "execution_count": null,
      "outputs": []
    },
    {
      "cell_type": "markdown",
      "source": [
        "*Setting Financial Goal*"
      ],
      "metadata": {
        "id": "9Hy5EdM1jAOH"
      }
    },
    {
      "cell_type": "markdown",
      "source": [
        "-->Define Goal (eg. saving for vacation costing ₹1,00,000)\n",
        "\n",
        "-->Setting a target for achieving the goal (e.g., 6 months from now)."
      ],
      "metadata": {
        "id": "LkXQRqK0jL4r"
      }
    },
    {
      "cell_type": "code",
      "source": [
        "# Calculating saving needed\n",
        "goal_amnt = 100000\n",
        "target_months = 6\n",
        "\n",
        "# monthly savings needed to reach the goal\n",
        "monthly_savings_needed = goal_amnt/target_months"
      ],
      "metadata": {
        "id": "Ql0k05sSjFPt"
      },
      "execution_count": null,
      "outputs": []
    },
    {
      "cell_type": "code",
      "source": [
        "monthly_data = monthly_income_df.merge(monthly_expense_df, how='left', on='Date')\n",
        "monthly_data = monthly_data.reset_index()\n",
        "\n",
        "monthly_data['Savings'] = monthly_data['Credit'] - monthly_data['Debit']\n",
        "\n",
        "# Ploting monthly savings over time\n",
        "plt.figure(figsize=(10, 6))  # Adjust figure size for readability\n",
        "plt.plot(monthly_data['Date'], monthly_data['Savings'], marker='o', color='blue', label='Actual Savings')\n",
        "plt.axhline(y=monthly_savings_needed, color='red', linestyle='--', label=f'Target Savings: ₹{monthly_savings_needed:.2f}')\n",
        "plt.title('Savings Progress Over Time')\n",
        "plt.xlabel('Date')\n",
        "plt.ylabel('Savings Amount')\n",
        "plt.xticks(rotation=45)\n",
        "plt.legend()\n",
        "plt.tight_layout()\n",
        "plt.show()"
      ],
      "metadata": {
        "id": "C3rQLDWXku_X"
      },
      "execution_count": null,
      "outputs": []
    }
  ]
}